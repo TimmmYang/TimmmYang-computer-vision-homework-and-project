{
 "cells": [
  {
   "cell_type": "markdown",
   "metadata": {},
   "source": [
    "# Homework \n",
    "## 1: Reorganize Linear Regression in Python mode."
   ]
  },
  {
   "cell_type": "code",
   "execution_count": 2,
   "metadata": {},
   "outputs": [],
   "source": [
    "import numpy as np\n",
    "import random\n",
    "import matplotlib.pyplot as plt"
   ]
  },
  {
   "cell_type": "markdown",
   "metadata": {},
   "source": [
    "## prediction"
   ]
  },
  {
   "cell_type": "code",
   "execution_count": 3,
   "metadata": {},
   "outputs": [],
   "source": [
    "def inference(w, b, x):\n",
    "    return w * x + b"
   ]
  },
  {
   "cell_type": "markdown",
   "metadata": {},
   "source": [
    "## cost function"
   ]
  },
  {
   "cell_type": "code",
   "execution_count": 4,
   "metadata": {},
   "outputs": [],
   "source": [
    "def loss_function(w, b, x, gt_y):     \n",
    "    # calculate the loss vector\n",
    "    loss = 0.5 * np.power((w * x + b - gt_y), 2)\n",
    "    # sum the loss element-wise and compute average\n",
    "    avg_loss = np.average(loss)\n",
    "    return avg_loss"
   ]
  },
  {
   "cell_type": "markdown",
   "metadata": {},
   "source": [
    "## gradient calculation"
   ]
  },
  {
   "cell_type": "code",
   "execution_count": 5,
   "metadata": {},
   "outputs": [],
   "source": [
    "def gradient(pred_y, gt_y, x):\n",
    "    diff = pred_y - gt_y\n",
    "    dw_avg = np.average(np.multiply(diff,x)) \n",
    "    db_avg = np.average(diff)\n",
    "    return dw_avg, db_avg"
   ]
  },
  {
   "cell_type": "markdown",
   "metadata": {},
   "source": [
    "## gradient update (batch size) "
   ]
  },
  {
   "cell_type": "code",
   "execution_count": 6,
   "metadata": {},
   "outputs": [],
   "source": [
    "def cal_step_gradient(batch_x, batch_gt_y, w, b, lr):\n",
    "    pred_y = inference(w, b, batch_x)\n",
    "    dw_avg, db_avg = gradient(pred_y, batch_gt_y, batch_x)\n",
    "    w = w - lr * dw_avg\n",
    "    b = b - lr * db_avg\n",
    "    return w, b"
   ]
  },
  {
   "cell_type": "markdown",
   "metadata": {},
   "source": [
    "## data generation"
   ]
  },
  {
   "cell_type": "code",
   "execution_count": 28,
   "metadata": {},
   "outputs": [],
   "source": [
    "def gen_sample_data():\n",
    "    w = random.randint(0, 10) + random.random()\n",
    "    b = random.randint(0, 5) + random.random()\n",
    "    num_sample = 100\n",
    "    print(w, b)\n",
    "    x = np.random.randint(0, 100, num_sample) + random.random()\n",
    "    y = w * x + b + random.random() * np.random.randint(-100, 100, num_sample)\n",
    "    return x, y"
   ]
  },
  {
   "cell_type": "markdown",
   "metadata": {},
   "source": [
    "## training function"
   ]
  },
  {
   "cell_type": "code",
   "execution_count": 35,
   "metadata": {},
   "outputs": [],
   "source": [
    "def train(x, gt_y, batch_size, lr, max_iter):\n",
    "    w, b = 0, 0\n",
    "    num_sample = len(x)\n",
    "    for _ in range(max_iter):\n",
    "        batch_index = np.random.choice(len(x), batch_size)\n",
    "        batch_x = np.array([x[j] for j in batch_index])\n",
    "        batch_y = np.array([gt_y[j] for j in batch_index])\n",
    "        w, b = cal_step_gradient(batch_x, batch_y, w, b, lr)\n",
    "        print(' w: ', w, ' b: ', b)\n",
    "        print(' loss: ', loss_function(w, b, x, gt_y))\n",
    "    return w, b"
   ]
  },
  {
   "cell_type": "markdown",
   "metadata": {},
   "source": [
    "# validate the Python mode code "
   ]
  },
  {
   "cell_type": "code",
   "execution_count": 37,
   "metadata": {
    "scrolled": true
   },
   "outputs": [
    {
     "name": "stdout",
     "output_type": "stream",
     "text": [
      "3.198707633791982 0.9780379360380198\n"
     ]
    },
    {
     "data": {
      "image/png": "[encoded data removed]",
      "text/plain": [
       "<Figure size 432x288 with 1 Axes>"
      ]
     },
     "metadata": {
      "needs_background": "light"
     },
     "output_type": "display_data"
    }
   ],
   "source": [
    "x, y = gen_sample_data()\n",
    "plt.scatter(x, y)\n",
    "plt.show()"
   ]
  },
  {
   "cell_type": "code",
   "execution_count": 40,
   "metadata": {
    "scrolled": false
   },
   "outputs": [
    {
     "name": "stdout",
     "output_type": "stream",
     "text": [
      " w:  1.0415324210773924  b:  0.015561993042991202\n",
      " loss:  9079.07424235723\n",
      " w:  1.7562524075756043  b:  0.026347891388994654\n",
      " loss:  4227.78863205837\n",
      " w:  2.2404637893140404  b:  0.033129231570674676\n",
      " loss:  2012.9592636608734\n",
      " w:  2.6262837235805234  b:  0.03880834991926511\n",
      " loss:  867.8923945710376\n",
      " w:  2.8638441159488703  b:  0.0421113195263167\n",
      " loss:  436.25390236455297\n",
      " w:  3.034538943520164  b:  0.044305639027807826\n",
      " loss:  254.76444174243713\n",
      " w:  3.119687992736953  b:  0.04553892623053741\n",
      " loss:  204.447403769499\n",
      " w:  3.1763534965891527  b:  0.04635982416875219\n",
      " loss:  185.79826236414345\n",
      " w:  3.2231785574348693  b:  0.04703150108928674\n",
      " loss:  179.33435829453407\n",
      " w:  3.2169772640525203  b:  0.046958723299663815\n",
      " loss:  179.7253021526443\n",
      " w:  3.2217464710667207  b:  0.04702939266927033\n",
      " loss:  179.41202656938057\n",
      " w:  3.235359956292484  b:  0.047070116225248655\n",
      " loss:  178.9797605699053\n",
      " w:  3.234721159047598  b:  0.04719938997700622\n",
      " loss:  178.9847907786881\n",
      " w:  3.2139631686361976  b:  0.04688182830585506\n",
      " loss:  179.9666262283743\n",
      " w:  3.1943513062819653  b:  0.04670893512962805\n",
      " loss:  182.35575182071045\n",
      " w:  3.2336809295952884  b:  0.04745289468115519\n",
      " loss:  178.99619834968732\n",
      " w:  3.265402156436144  b:  0.04783411194401959\n",
      " loss:  180.44768861299184\n",
      " w:  3.2477762348180925  b:  0.04784970419754548\n",
      " loss:  179.18275469744552\n",
      " w:  3.234910214829014  b:  0.04754053493926678\n",
      " loss:  178.9832752457515\n",
      " w:  3.234944703636168  b:  0.04754262494137577\n",
      " loss:  178.98299314981534\n"
     ]
    },
    {
     "data": {
      "text/plain": [
       "(3.234944703636168, 0.04754262494137577)"
      ]
     },
     "execution_count": 40,
     "metadata": {},
     "output_type": "execute_result"
    }
   ],
   "source": [
    "train(x, y, batch_size=80, lr=0.0001, max_iter=20)"
   ]
  },
  {
   "cell_type": "markdown",
   "metadata": {},
   "source": [
    "## 2. Reorganize Logistic regression in Python mode."
   ]
  },
  {
   "cell_type": "code",
   "execution_count": 2,
   "metadata": {},
   "outputs": [],
   "source": [
    "import numpy as np\n",
    "import random\n",
    "import matplotlib.pyplot as plt"
   ]
  },
  {
   "cell_type": "markdown",
   "metadata": {},
   "source": [
    "### Generate test data"
   ]
  },
  {
   "cell_type": "code",
   "execution_count": 28,
   "metadata": {},
   "outputs": [],
   "source": [
    "def data_generate():\n",
    "    mean1 = [5, 5]\n",
    "    cov1 = [[1, 0], [0, 10]]\n",
    "    x1_0, x2_0 = np.random.multivariate_normal(mean1, cov1, 100).T\n",
    "    mean2 = [5, 20]\n",
    "    cov2 = [[1, 0], [0, 10]]\n",
    "    x1_1, x2_1 = np.random.multivariate_normal(mean2, cov2, 100).T\n",
    "    plt.scatter(x1_0, x2_0)\n",
    "    plt.scatter(x1_1, x2_1)\n",
    "    plt.show()\n",
    "    ## 拼接两组点，并对其打标签\n",
    "    x1 = np.append(x1_0, x1_1)\n",
    "    x2 = np.append(x2_0, x2_1)\n",
    "    x0 = np.ones(200)      ## x0 should be 1, which corresponding to theta0.  \n",
    "    X = np.vstack((x0,x1,x2))     ## 拼接x0,x1,x2为X矩阵 vstack: vertical stack\n",
    "    X = X.T\n",
    "    X = np.matrix(X)\n",
    "    gt_y = np.append(np.zeros(100), np.ones(100))   ## generate y. 0 represents the blue dots, 1 is the orange dots\n",
    "    gt_y = np.matrix([gt_y]).T\n",
    "    return X, gt_y"
   ]
  },
  {
   "cell_type": "markdown",
   "metadata": {},
   "source": [
    "### data plot"
   ]
  },
  {
   "cell_type": "code",
   "execution_count": 29,
   "metadata": {
    "scrolled": true
   },
   "outputs": [
    {
     "data": {
      "image/png": "[encoded data removed]",
      "text/plain": [
       "<Figure size 432x288 with 1 Axes>"
      ]
     },
     "metadata": {
      "needs_background": "light"
     },
     "output_type": "display_data"
    },
    {
     "name": "stdout",
     "output_type": "stream",
     "text": [
      "(200, 3)\n",
      "(200, 1)\n"
     ]
    }
   ],
   "source": [
    "X, gt_y = data_generate()\n",
    "print(X.shape)\n",
    "print(gt_y.shape)"
   ]
  },
  {
   "cell_type": "markdown",
   "metadata": {},
   "source": [
    "### sigmoid function\n",
    "$$sigmoid(x) = \\frac{1}{1 + e^{-x}}$$"
   ]
  },
  {
   "cell_type": "code",
   "execution_count": 30,
   "metadata": {},
   "outputs": [],
   "source": [
    "def sigmoid(x):\n",
    "    return  1 / (1 + np.exp(-x))"
   ]
  },
  {
   "cell_type": "markdown",
   "metadata": {},
   "source": [
    "### cost function of logistic regression"
   ]
  },
  {
   "cell_type": "code",
   "execution_count": 31,
   "metadata": {},
   "outputs": [],
   "source": [
    "def cost_function(theta, X, y):# the input argument. X contains (1,x1,x2). the total points are m = 200\n",
    "    p = sigmoid(X * theta.T)   # PROBABILITY\n",
    "    J = -np.average(np.multiply(y, np.log(p)) + np.multiply((1 - y), np.log(1 - p)))\n",
    "    return J"
   ]
  },
  {
   "cell_type": "markdown",
   "metadata": {},
   "source": [
    "### calculate the gradient vector"
   ]
  },
  {
   "cell_type": "code",
   "execution_count": 32,
   "metadata": {},
   "outputs": [],
   "source": [
    "def logistic_gradient(pred_y, gt_y, X):\n",
    "    diff = pred_y - gt_y\n",
    "    d_theta0_avg = np.average(np.multiply(diff,X[:,0]))\n",
    "    d_theta1_avg = np.average(np.multiply(diff,X[:,1])) \n",
    "    d_theta2_avg = np.average(np.multiply(diff,X[:,2]))\n",
    "    return np.matrix([[d_theta0_avg, d_theta1_avg, d_theta2_avg]])"
   ]
  },
  {
   "cell_type": "markdown",
   "metadata": {},
   "source": [
    "### update the parameter vector"
   ]
  },
  {
   "cell_type": "code",
   "execution_count": 33,
   "metadata": {},
   "outputs": [],
   "source": [
    "def logistic_cal_step_gradient(X, gt_y, theta, lr):\n",
    "    pred = sigmoid(X * theta.T)\n",
    "    d_theta = logistic_gradient(pred, gt_y, X)\n",
    "    theta = theta - lr * d_theta\n",
    "    return theta"
   ]
  },
  {
   "cell_type": "markdown",
   "metadata": {},
   "source": [
    "### training function"
   ]
  },
  {
   "cell_type": "code",
   "execution_count": 34,
   "metadata": {},
   "outputs": [],
   "source": [
    "def logistic_train(X, gt_y, lr, max_iter):\n",
    "    theta = np.array([[0,0,0]])    ## initialize theta vector\n",
    "    cost = []\n",
    "    for _ in range(max_iter):\n",
    "        theta = logistic_cal_step_gradient(X, gt_y, theta, lr)\n",
    "        #print(' k: ', -theta[0,1]/theta[0,2], ' b: ', -theta[0,0]/theta[0,2])\n",
    "        cost.append(cost_function(theta, X, gt_y))\n",
    "        #print(' cost: ', cost(theta, X, gt_y))\n",
    "    return theta, cost"
   ]
  },
  {
   "cell_type": "markdown",
   "metadata": {},
   "source": [
    "### training and show the cost curve"
   ]
  },
  {
   "cell_type": "code",
   "execution_count": 35,
   "metadata": {
    "scrolled": false
   },
   "outputs": [
    {
     "data": {
      "image/png": "[encoded data removed]",
      "text/plain": [
       "<Figure size 432x288 with 1 Axes>"
      ]
     },
     "metadata": {
      "needs_background": "light"
     },
     "output_type": "display_data"
    }
   ],
   "source": [
    "theta, cost = logistic_train(X, gt_y, lr=0.02, max_iter=1000)\n",
    "plt.plot(cost)\n",
    "plt.show()"
   ]
  },
  {
   "cell_type": "markdown",
   "metadata": {},
   "source": [
    "### Result display"
   ]
  },
  {
   "cell_type": "code",
   "execution_count": 36,
   "metadata": {},
   "outputs": [
    {
     "data": {
      "image/png": "[encoded data removed]",
      "text/plain": [
       "<Figure size 432x288 with 1 Axes>"
      ]
     },
     "metadata": {
      "needs_background": "light"
     },
     "output_type": "display_data"
    }
   ],
   "source": [
    "k = - theta[0,1] / theta[0,2]\n",
    "b = - theta[0,0] / theta[0,2]\n",
    "x1 = np.linspace(1, 8, 100)\n",
    "x2 = k * x1 + b\n",
    "plt.scatter(np.array(X[0:99,1].T), np.array(X[0:99,2].T))\n",
    "plt.scatter(np.array(X[100:199,1].T), np.array(X[100:199,2].T))\n",
    "plt.plot(x1, x2, color='black')\n",
    "plt.show()"
   ]
  },
  {
   "cell_type": "markdown",
   "metadata": {},
   "source": [
    "### array 中的 element-wise乘和矩阵乘"
   ]
  },
  {
   "cell_type": "code",
   "execution_count": 67,
   "metadata": {
    "scrolled": true
   },
   "outputs": [
    {
     "name": "stdout",
     "output_type": "stream",
     "text": [
      "[[1 2]\n",
      " [3 4]]\n",
      "[[1]\n",
      " [2]]\n",
      "element-wise and broadcast1:\n",
      " [[1 2]\n",
      " [6 8]]\n",
      "element-wise and broadcast2:\n",
      " [[1 2]\n",
      " [6 8]]\n",
      "matrix multiplication:\n",
      " [[ 5]\n",
      " [11]]\n"
     ]
    }
   ],
   "source": [
    "a = np.array([[1,2],[3,4]])\n",
    "b = np.transpose(np.array([[1,2]]))\n",
    "print(a)\n",
    "print(b)\n",
    "print('element-wise and broadcast1:\\n', a*b)\n",
    "print('element-wise and broadcast2:\\n', np.multiply(a,b))\n",
    "print('matrix multiplication:\\n', np.dot(a,b))"
   ]
  }
 ],
 "metadata": {
  "kernelspec": {
   "display_name": "Python 3",
   "language": "python",
   "name": "python3"
  },
  "language_info": {
   "codemirror_mode": {
    "name": "ipython",
    "version": 3
   },
   "file_extension": ".py",
   "mimetype": "text/x-python",
   "name": "python",
   "nbconvert_exporter": "python",
   "pygments_lexer": "ipython3",
   "version": "3.6.9"
  }
 },
 "nbformat": 4,
 "nbformat_minor": 2
}
